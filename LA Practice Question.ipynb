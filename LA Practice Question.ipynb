{
  "nbformat": 4,
  "nbformat_minor": 0,
  "metadata": {
    "colab": {
      "provenance": []
    },
    "kernelspec": {
      "name": "python3",
      "display_name": "Python 3"
    },
    "language_info": {
      "name": "python"
    }
  },
  "cells": [
    {
      "cell_type": "code",
      "execution_count": null,
      "metadata": {
        "id": "0iMX5sorgI7Y"
      },
      "outputs": [],
      "source": [
        "import pandas as pd\n",
        "import numpy as np\n",
        "from sklearn.preprocessing import StandardScaler\n",
        "import matplotlib.pyplot as plt\n",
        "import seaborn as sns"
      ]
    },
    {
      "cell_type": "code",
      "source": [
        "A=np.array([[1,2,3],[2,3,4],[4,5,6]])"
      ],
      "metadata": {
        "id": "uDWf1DtugI7Z"
      },
      "execution_count": null,
      "outputs": []
    },
    {
      "cell_type": "markdown",
      "source": [
        "##Write a Python function that takes a matrix A and an integer k as input and returns the top k principal components of A using PCA."
      ],
      "metadata": {
        "id": "xi5z5ccoCftS"
      }
    },
    {
      "cell_type": "code",
      "source": [
        "import numpy as np\n",
        "\n",
        "def pca(A, k):\n",
        "    # Center the data\n",
        "    mean = np.mean(A, axis=0)\n",
        "    std = np.std(A)\n",
        "    # centered_A = A - mean\n",
        "\n",
        "    centered_A = (A - mean)/std\n",
        "\n",
        "    # Compute the covariance matrix\n",
        "    cov = np.cov(centered_A.T)\n",
        "    print(cov.shape)\n",
        "\n",
        "    # Compute the eigenvalues and eigenvectors of the covariance matrix\n",
        "    eigenvalues, eigenvectors = np.linalg.eig(cov)\n",
        "\n",
        "    # Sort the eigenvalues and eigenvectors in descending order\n",
        "    idx = eigenvalues.argsort()[::-1]\n",
        "    eigenvalues = eigenvalues[idx]\n",
        "    eigenvectors = eigenvectors[:, idx]\n",
        "\n",
        "    # Select the top k eigenvectors\n",
        "    principal_components = eigenvectors[:, :k]\n",
        "    print(principal_components.shape)\n",
        "\n",
        "    print(eigenvectors)\n",
        "\n",
        "\n",
        "    # Transform the data using the principal components\n",
        "    transformed_A = np.dot(centered_A, principal_components)\n",
        "    # transformed_A = centered_A.dot(principal_components)\n",
        "\n",
        "    return transformed_A"
      ],
      "metadata": {
        "id": "oDNr-JhFDCd9"
      },
      "execution_count": null,
      "outputs": []
    },
    {
      "cell_type": "code",
      "source": [
        "B = np.array([[1, 2], [3, 4], [5, 6], [7, 8]])\n",
        "B = np.random.randint(10,50,100).reshape(20,5)\n",
        "pca(B, 2)"
      ],
      "metadata": {
        "id": "O7XI1ofwxor_"
      },
      "execution_count": null,
      "outputs": []
    },
    {
      "cell_type": "markdown",
      "source": [
        "##Write a Python function that takes a matrix A as input and returns its singular value decomposition (SVD)."
      ],
      "metadata": {
        "id": "OjtSBUktCfmC"
      }
    },
    {
      "cell_type": "code",
      "source": [
        "#Solution-1"
      ],
      "metadata": {
        "id": "wGJ5fU8JFbab"
      },
      "execution_count": null,
      "outputs": []
    },
    {
      "cell_type": "code",
      "source": [
        "import numpy as np\n",
        "\n",
        "def svd_decomp(A):\n",
        "    U, Sigma, Vt = np.linalg.svd(A)\n",
        "    return U, Sigma, Vt"
      ],
      "metadata": {
        "id": "tV0OaBH4Cmtz"
      },
      "execution_count": null,
      "outputs": []
    },
    {
      "cell_type": "code",
      "source": [
        "svd_decomp(A)"
      ],
      "metadata": {
        "id": "2_5GPrlsL977"
      },
      "execution_count": null,
      "outputs": []
    },
    {
      "cell_type": "markdown",
      "source": [
        "\n",
        "\n",
        "##Write a python code to derive simple linear regressions best fit line in python"
      ],
      "metadata": {
        "id": "WKEUHjgdCcUx"
      }
    },
    {
      "cell_type": "code",
      "source": [
        "#Solution-1"
      ],
      "metadata": {
        "id": "gich0xs3CVzp"
      },
      "execution_count": null,
      "outputs": []
    },
    {
      "cell_type": "code",
      "source": [
        "def simple_linear_regression(X,Y,L=0.015,epochs=1000):\n",
        "  # Building the model\n",
        "  m = 0\n",
        "  c = 0\n",
        "  n = float(len(X)) # Number of elements in X\n",
        "\n",
        "  # Performing Gradient Descent\n",
        "  for i in range(epochs):\n",
        "      Y_pred = m*X + c  # The current predicted value of Y\n",
        "      D_m = (-2/n) * sum(X * (Y - Y_pred))  # Derivative wrt m\n",
        "      D_c = (-2/n) * sum(Y - Y_pred)  # Derivative wrt c\n",
        "      m = m - L * D_m  # Update m\n",
        "      c = c - L * D_c  # Update c\n",
        "  print(\"Intercept (c):\", c)\n",
        "  print(\"Slope (m):\", m)\n",
        "\n",
        "  return m,c\n",
        "\n",
        "X = np.array([1, 2, 3, 4, 5])\n",
        "Y = np.array([2, 4, 5, 4, 5])\n",
        "simple_linear_regression(X,Y,L=0.015,epochs=1000)"
      ],
      "metadata": {
        "id": "yRjYQKxwNEYS"
      },
      "execution_count": null,
      "outputs": []
    },
    {
      "cell_type": "code",
      "source": [
        "#Solution-2"
      ],
      "metadata": {
        "id": "jpsAsuw4O-HC"
      },
      "execution_count": null,
      "outputs": []
    },
    {
      "cell_type": "code",
      "source": [
        "import numpy as np\n",
        "\n",
        "def simple_linear_regression(x, y):\n",
        "    n = len(x)\n",
        "    x_mean = np.mean(x)\n",
        "    y_mean = np.mean(y)\n",
        "\n",
        "    # Calculate the slope (beta_1) and intercept (beta_0)\n",
        "    beta_1 = sum((x_i - x_mean)*(y_i - y_mean) for x_i, y_i in zip(x,y))/sum((x_i - x_mean)**2 for x_i in x)\n",
        "    beta_0 = y_mean - beta_1*x_mean\n",
        "\n",
        "    return beta_0, beta_1\n",
        "\n",
        "# Example usage\n",
        "x = np.array([1, 2, 3, 4, 5])\n",
        "y = np.array([2, 4, 5, 4, 5])\n",
        "beta_0, beta_1 = simple_linear_regression(x, y)\n",
        "print(\"Intercept (beta_0):\", beta_0)\n",
        "print(\"Slope (beta_1):\", beta_1)\n"
      ],
      "metadata": {
        "id": "lwvVMRgcIHfI",
        "colab": {
          "base_uri": "https://localhost:8080/"
        },
        "outputId": "999af18f-72b5-4609-d909-b2f72e788a92"
      },
      "execution_count": null,
      "outputs": [
        {
          "output_type": "stream",
          "name": "stdout",
          "text": [
            "Intercept (beta_0): 2.2\n",
            "Slope (beta_1): 0.6\n"
          ]
        }
      ]
    },
    {
      "cell_type": "code",
      "source": [],
      "metadata": {
        "id": "_dTlWOcegMCv"
      },
      "execution_count": null,
      "outputs": []
    },
    {
      "cell_type": "code",
      "source": [],
      "metadata": {
        "id": "-MF3WNzYgL9R"
      },
      "execution_count": null,
      "outputs": []
    },
    {
      "cell_type": "code",
      "source": [],
      "metadata": {
        "id": "Pj0u0X7qgL5Y"
      },
      "execution_count": null,
      "outputs": []
    }
  ]
}